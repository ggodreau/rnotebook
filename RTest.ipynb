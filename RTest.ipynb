{
 "cells": [
  {
   "cell_type": "code",
   "execution_count": 18,
   "metadata": {
    "collapsed": false
   },
   "outputs": [
    {
     "name": "stderr",
     "output_type": "stream",
     "text": [
      "Warning message:\n",
      "\"package 'ggplot2' was built under R version 3.3.3\"Warning message:\n",
      "\"package 'corrplot' was built under R version 3.3.3\""
     ]
    }
   ],
   "source": [
    "#install.packages(\"caret\", dependencies = c(\"Depends\", \"Suggests\"))\n",
    "#install.packages(\"caret\")\n",
    "#library(caret)\n",
    "#install.packages(\"ggplot2\")\n",
    "library(ggplot2)   #probably redundant\n",
    "#install.packages(\"labeling\")\n",
    "library(labeling)  #not used\n",
    "#install.packages(\"corrplot\")\n",
    "library(corrplot)"
   ]
  },
  {
   "cell_type": "code",
   "execution_count": null,
   "metadata": {
    "collapsed": true
   },
   "outputs": [],
   "source": [
    "Galaxy <- read.csv(\"https://raw.githubusercontent.com/ggodreau/rnotebook/master/GalaxyLargeMatrix.csv\", header = TRUE)\n",
    "head(Galaxy)"
   ]
  },
  {
   "cell_type": "code",
   "execution_count": 19,
   "metadata": {
    "collapsed": true
   },
   "outputs": [],
   "source": [
    "# As I am working with Galaxy Sentiment, I will use all the samsung variables\n",
    "df_Galaxy=Galaxy[,grepl(\"^samsung*\",names(Galaxy))]\n",
    "#removing samsunggalaxy because this factor also appears in the (to be) merged nzv matrix\n",
    "df_Galaxy$samsunggalaxy<-NULL"
   ]
  },
  {
   "cell_type": "code",
   "execution_count": 21,
   "metadata": {
    "collapsed": false
   },
   "outputs": [
    {
     "name": "stderr",
     "output_type": "stream",
     "text": [
      "Don't know how to automatically pick scale for object of type data.frame. Defaulting to continuous.\n"
     ]
    },
    {
     "data": {},
     "metadata": {},
     "output_type": "display_data"
    },
    {
     "data": {
      "image/png": "[encoded data removed]",
      "text/plain": [
       "plot without title"
      ]
     },
     "metadata": {},
     "output_type": "display_data"
    }
   ],
   "source": [
    "# create a df of sentiment only (for histogram)\n",
    "sentimentFactor <- data.frame(as.numeric(Galaxy[,ncol(Galaxy)]))\n",
    "# remove zeroes\n",
    "sentimentFactorNonZero <- subset(data.frame(sentimentFactor), sentimentFactor != 0)\n",
    "\n",
    "# remove outliers (> +/- 3 stdevs)\n",
    "sentimentFactorNonZero <- (\n",
    "  subset(\n",
    "    data.frame(sentimentFactorNonZero),\n",
    "    sentimentFactorNonZero < 3*sd(sentimentFactorNonZero[,1]) &\n",
    "      sentimentFactorNonZero > -3*sd(sentimentFactorNonZero[,1])\n",
    "  )\n",
    ")\n",
    "\n",
    "# reset the df index, needed for charting\n",
    "sentimentFactorNonZero <- data.frame(sentimentFactorNonZero[,1])\n",
    "\n",
    "ggplot(sentimentFactorNonZero,\n",
    "       aes(\n",
    "         x = data.frame(sentimentFactorNonZero)\n",
    "       )\n",
    ") + geom_histogram(binwidth = 10)"
   ]
  },
  {
   "cell_type": "code",
   "execution_count": null,
   "metadata": {
    "collapsed": true
   },
   "outputs": [],
   "source": []
  }
 ],
 "metadata": {
  "kernelspec": {
   "display_name": "R",
   "language": "R",
   "name": "ir"
  },
  "language_info": {
   "codemirror_mode": "r",
   "file_extension": ".r",
   "mimetype": "text/x-r-source",
   "name": "R",
   "pygments_lexer": "r",
   "version": "3.3.2"
  }
 },
 "nbformat": 4,
 "nbformat_minor": 2
}
